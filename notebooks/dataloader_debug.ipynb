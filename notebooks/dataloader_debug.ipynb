{
 "cells": [
  {
   "cell_type": "code",
   "execution_count": 5,
   "metadata": {},
   "outputs": [],
   "source": [
    "import os \n",
    "from torch.utils.data import Dataset, DataLoader\n",
    "import pandas as pd\n",
    "from PIL import Image\n",
    "import torch\n",
    "import sys\n",
    "from torchvision import transforms as T\n",
    "import numpy as np\n",
    "\n",
    "import cv2\n",
    "from skimage.metrics import structural_similarity as ssim"
   ]
  },
  {
   "cell_type": "code",
   "execution_count": 6,
   "metadata": {},
   "outputs": [],
   "source": [
    "sys.path.insert(0, \"../\")\n",
    "\n",
    "from src.utils import ImagesDataset, images_collate, TRANSFORM"
   ]
  },
  {
   "cell_type": "code",
   "execution_count": 7,
   "metadata": {},
   "outputs": [],
   "source": [
    "DATA_FOLDER = '../data/cars'\n",
    "PARTS = ['train', 'test']\n",
    "DATA_INFO_PATH = f'{DATA_FOLDER}/info.csv'"
   ]
  },
  {
   "cell_type": "code",
   "execution_count": 4,
   "metadata": {},
   "outputs": [],
   "source": [
    "tmp = []\n",
    "for part in PARTS:\n",
    "    images_names = os.listdir(f\"{DATA_FOLDER}/{part}\")\n",
    "    tmp += list(map(lambda item: (item, part), images_names))\n",
    "df = pd.DataFrame(tmp, columns=['image_name', 'part'])\n",
    "df.to_csv(DATA_INFO_PATH, sep=';', index=False)"
   ]
  },
  {
   "cell_type": "code",
   "execution_count": 17,
   "metadata": {},
   "outputs": [],
   "source": [
    "train_dataset = ImagesDataset('train', DATA_FOLDER, TRANSFORM)\n",
    "train_dataloader = DataLoader(train_dataset,batch_size=2,shuffle=True,num_workers=2, collate_fn=images_collate)"
   ]
  }
 ],
 "metadata": {
  "kernelspec": {
   "display_name": "Python 3",
   "language": "python",
   "name": "python3"
  },
  "language_info": {
   "codemirror_mode": {
    "name": "ipython",
    "version": 3
   },
   "file_extension": ".py",
   "mimetype": "text/x-python",
   "name": "python",
   "nbconvert_exporter": "python",
   "pygments_lexer": "ipython3",
   "version": "3.11.4"
  }
 },
 "nbformat": 4,
 "nbformat_minor": 2
}
