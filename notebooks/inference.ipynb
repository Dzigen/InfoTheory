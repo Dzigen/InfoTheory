{
 "cells": [
  {
   "cell_type": "code",
   "execution_count": 7,
   "metadata": {},
   "outputs": [],
   "source": [
    "import sys\n",
    "import matplotlib.pyplot as plt\n",
    "import optuna\n",
    "import joblib\n",
    "sys.path.insert(0, '../')\n",
    "\n",
    "from src.utils import ImagesDataset, DataLoader, images_collate, TRANSFORM, REFORM\n",
    "from src.metrics import PSNR\n",
    "from src.settings import ParamsConfig\n",
    "from src.compression import Compressor, JPEGRDSingleImage\n",
    "from src.trainloop import evaluate\n",
    "\n",
    "DATA_FOLDER = '../data/cars'\n",
    "LOG_DIR  = '../experiments/log8'\n",
    "MODEL_TYPE = 'lastmodel'\n",
    "TRAINED_MODEL = f'{LOG_DIR}/{MODEL_TYPE}.pt'\n",
    "PARAMS_YAML_PATH = f\"{LOG_DIR}/used_config.yaml\"\n",
    "COMPORESSED_IMG_DIR = './compressed_images'\n",
    "PARAMS = ParamsConfig.get_params_config(PARAMS_YAML_PATH)\n",
    "ARCH = ParamsConfig.get_architecture_params(PARAMS['latent_dim'], PARAMS['use_maxpool'], base_dir='../')\n",
    "#OPTUNA_STUDY = f'{LOG_DIR}/optuna_study.pkl'\n",
    "#STUDY = joblib.load(OPTUNA_STUDY)"
   ]
  },
  {
   "cell_type": "markdown",
   "metadata": {},
   "source": [
    "#### Evaluating"
   ]
  },
  {
   "cell_type": "code",
   "execution_count": 8,
   "metadata": {},
   "outputs": [],
   "source": [
    "test_dataset = ImagesDataset('test', DATA_FOLDER, TRANSFORM)\n",
    "TEST_DATALOADER = DataLoader(\n",
    "    test_dataset,batch_size=1, shuffle=False,\n",
    "    num_workers=2, collate_fn=images_collate)\n",
    "\n",
    "compressor = Compressor(TRAINED_MODEL, PARAMS, ARCH, COMPORESSED_IMG_DIR)"
   ]
  },
  {
   "cell_type": "code",
   "execution_count": 9,
   "metadata": {},
   "outputs": [],
   "source": [
    "# оригинал\n",
    "orig_images = [REFORM(test_dataset[i][1]) for i in range(len(test_dataset))]\n",
    "\n",
    "# автоенкодер без квантования\n",
    "_, vqvae_psnr, vqvae_images = evaluate(\n",
    "    compressor.model, TEST_DATALOADER, PARAMS['device'], mode=None)\n",
    "vqvae_images = [REFORM(vqvae_images[i]) for i in range(vqvae_images.shape[0])]\n",
    "vqvae_psnr = vqvae_psnr['psnr'] "
   ]
  },
  {
   "cell_type": "code",
   "execution_count": 10,
   "metadata": {},
   "outputs": [],
   "source": [
    "# автоенкодер c квантованием\n",
    "compressed_info = [compressor.compress(batch1[\"images\"], str(i)) for i, batch1 in enumerate(TEST_DATALOADER)]\n",
    "max_x = list(map(lambda item: item[1], compressed_info))\n",
    "bpp = list(map(lambda item: item[2], compressed_info))\n",
    "\n",
    "decompressed_images = [compressor.decompress(str(i), mx) for i, mx in enumerate(max_x)]\n",
    "quand_psnr = [PSNR(target, label, mode=None) for target, label in zip(decompressed_images, orig_images)]"
   ]
  },
  {
   "cell_type": "code",
   "execution_count": 11,
   "metadata": {},
   "outputs": [],
   "source": [
    "# jpeg квантование\n",
    "jpeg_info = [JPEGRDSingleImage(image, bpp[i]) for i, image in enumerate(orig_images)]\n",
    "jpeg_images = list(map(lambda item: item[0], jpeg_info))\n",
    "jpeg_psnr = list(map(lambda item: item[3], jpeg_info))\n",
    "jpeg_bpp = list(map(lambda item: item[2], jpeg_info))"
   ]
  },
  {
   "cell_type": "markdown",
   "metadata": {},
   "source": [
    "#### Draw plot"
   ]
  },
  {
   "cell_type": "code",
   "execution_count": null,
   "metadata": {},
   "outputs": [],
   "source": [
    "img_count = 10\n",
    "font_size = 8\n",
    "save_compare_plot = f'./{MODEL_TYPE}_compare_plot.jpeg'\n",
    "\n",
    "plt.figure(figsize=(10,5))\n",
    "\n",
    "for i in range(img_count):\n",
    "    title = ''\n",
    "    plt.subplot(4, img_count, i + 1).set_title(title, fontsize=font_size )\n",
    "    plt.imshow(orig_images[i], interpolation='nearest')\n",
    "    plt.axis(False)\n",
    "\n",
    "for i in range(img_count):\n",
    "    title = f\"psnr: {round(vqvae_psnr[i],2)}\"\n",
    "    plt.subplot(4, img_count, img_count + i + 1).set_title(title, fontsize=font_size )\n",
    "    plt.imshow(vqvae_images[i], interpolation='nearest')\n",
    "    plt.axis(False)\n",
    "\n",
    "for i in range(img_count):\n",
    "    title = f\"psnr: {round(quand_psnr[i],2)}\\nbpp: {round(bpp[i],2)}\"\n",
    "    plt.subplot(4,img_count, 2*img_count + i + 1).set_title(title, fontsize=font_size )\n",
    "    plt.imshow(decompressed_images[i], interpolation='nearest')\n",
    "    plt.axis(False)\n",
    "\n",
    "for i in range(img_count):\n",
    "    title = f\"psnr: {round(jpeg_psnr[i],2)}\\nbpp: {round(jpeg_bpp[i],2)}\"\n",
    "    plt.subplot(4, img_count, 3*img_count + i + 1).set_title(title, fontsize=font_size )\n",
    "    plt.imshow(jpeg_images[i], interpolation='nearest')\n",
    "    plt.axis(False)\n",
    "\n",
    "plt.savefig(save_compare_plot)\n",
    "plt.show()"
   ]
  },
  {
   "cell_type": "code",
   "execution_count": null,
   "metadata": {},
   "outputs": [],
   "source": []
  }
 ],
 "metadata": {
  "kernelspec": {
   "display_name": "base",
   "language": "python",
   "name": "python3"
  },
  "language_info": {
   "codemirror_mode": {
    "name": "ipython",
    "version": 3
   },
   "file_extension": ".py",
   "mimetype": "text/x-python",
   "name": "python",
   "nbconvert_exporter": "python",
   "pygments_lexer": "ipython3",
   "version": "3.11.4"
  }
 },
 "nbformat": 4,
 "nbformat_minor": 2
}
