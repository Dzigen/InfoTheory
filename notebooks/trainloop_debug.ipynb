{
 "cells": [
  {
   "cell_type": "code",
   "execution_count": 5,
   "metadata": {},
   "outputs": [],
   "source": [
    "import torch.nn as nn\n",
    "import torch\n",
    "import cv2\n",
    "import numpy as np\n",
    "from PIL import Image"
   ]
  },
  {
   "cell_type": "code",
   "execution_count": 6,
   "metadata": {},
   "outputs": [],
   "source": [
    "def conv_formula(size, in_chanel, out_channels, \n",
    "                 kernel_size, stride, padding):\n",
    "    \n",
    "    conv = nn.Conv2d(in_chanel, out_channels, \n",
    "                     kernel_size=kernel_size, stride=stride, \n",
    "                     padding=padding)\n",
    "    x = torch.randn(size=(in_chanel, size, size))\n",
    "    out = conv(x)\n",
    "    out_dim = out.shape\n",
    "\n",
    "    new_size = ((size + (2*padding) - kernel_size) / stride) + 1\n",
    "    formula_dim = (out_channels, new_size, new_size)\n",
    "\n",
    "    return f\"formula: {formula_dim} | out: {out_dim}\"\n",
    "\n",
    "def maxpool_formula(size, in_chanel, kernel_size, stride, padding):\n",
    "    maxpool = nn.MaxPool2d(kernel_size, stride, padding)\n",
    "    x = torch.randn(size=(in_chanel, size, size))\n",
    "    out = maxpool(x)\n",
    "    out_dim = out.shape\n",
    "\n",
    "    new_size = ((size + (2*padding) - kernel_size) / stride) + 1\n",
    "    formula_dim = (in_chanel, new_size, new_size)\n",
    "\n",
    "    return f\"formula: {formula_dim} | out: {out_dim}\"\n",
    "\n",
    "def transpose_conv_formula(size, in_chanel, out_channels, \n",
    "                           kernel_size, stride, padding, out_padding):\n",
    "    trans_conv = nn.ConvTranspose2d(in_chanel, out_channels, kernel_size, stride, \n",
    "                                    output_padding=out_padding, padding=padding)\n",
    "    x = torch.randn(size=(in_chanel, size, size))\n",
    "    out = trans_conv(x)\n",
    "    out_dim = out.shape\n",
    "\n",
    "    new_size = ((size - 1)*stride) - (2*padding) + (kernel_size-1) + 1\n",
    "    formula_dim = (out_channels, new_size, new_size)\n",
    "\n",
    "    return f\"formula: {formula_dim} | out: {out_dim}\" "
   ]
  },
  {
   "cell_type": "markdown",
   "metadata": {},
   "source": [
    "### With maxpool"
   ]
  },
  {
   "cell_type": "markdown",
   "metadata": {},
   "source": [
    "#### latent16"
   ]
  },
  {
   "cell_type": "code",
   "execution_count": 18,
   "metadata": {},
   "outputs": [
    {
     "name": "stdout",
     "output_type": "stream",
     "text": [
      "formula: (128, 128.0, 128.0) | out: torch.Size([128, 128, 128])\n",
      "formula: (128, 64.0, 64.0) | out: torch.Size([128, 64, 64])\n",
      "formula: (32, 64.0, 64.0) | out: torch.Size([32, 64, 64])\n",
      "formula: (32, 32.0, 32.0) | out: torch.Size([32, 32, 32])\n",
      "formula: (16, 32.0, 32.0) | out: torch.Size([16, 32, 32])\n",
      "formula: (16, 16.0, 16.0) | out: torch.Size([16, 16, 16])\n"
     ]
    }
   ],
   "source": [
    "print(conv_formula(128, 3, 128, 7, 1, 3))\n",
    "print(maxpool_formula(128, 128, 2, 2, 0))\n",
    "print(conv_formula(64, 128, 32, 5, 1, 2))\n",
    "print(maxpool_formula(64, 32, 2, 2, 0))\n",
    "print(conv_formula(32, 32, 16, 3, 1, 1))\n",
    "print(maxpool_formula(32, 16, 2, 2, 0))"
   ]
  },
  {
   "cell_type": "code",
   "execution_count": 31,
   "metadata": {},
   "outputs": [
    {
     "name": "stdout",
     "output_type": "stream",
     "text": [
      "formula: (16, 31, 31) | out: torch.Size([16, 32, 32])\n",
      "formula: (32, 63, 63) | out: torch.Size([32, 64, 64])\n",
      "formula: (128, 127, 127) | out: torch.Size([128, 128, 128])\n",
      "formula: (3, 128.0, 128.0) | out: torch.Size([3, 128, 128])\n"
     ]
    }
   ],
   "source": [
    "print(transpose_conv_formula(16, 16, 16, 3, 2, 1, 1))\n",
    "print(transpose_conv_formula(32, 16, 32, 5, 2, 2, 1))\n",
    "print(transpose_conv_formula(64, 32, 128, 7, 2, 3, 1))\n",
    "print(conv_formula(128, 128, 3, 3, 1, 1))"
   ]
  },
  {
   "cell_type": "markdown",
   "metadata": {},
   "source": [
    "### Without maxpool"
   ]
  },
  {
   "cell_type": "markdown",
   "metadata": {},
   "source": [
    "#### latent16"
   ]
  },
  {
   "cell_type": "code",
   "execution_count": 18,
   "metadata": {},
   "outputs": [
    {
     "name": "stdout",
     "output_type": "stream",
     "text": [
      "formula: (128, 128.0, 128.0) | out: torch.Size([128, 128, 128])\n",
      "formula: (32, 64.0, 64.0) | out: torch.Size([32, 64, 64])\n",
      "formula: (16, 16.0, 16.0) | out: torch.Size([16, 16, 16])\n"
     ]
    }
   ],
   "source": [
    "print(conv_formula(128, 3, 128, 7, 1, 3))\n",
    "print(conv_formula(128, 128, 32, 4, 2, 1))\n",
    "print(conv_formula(64, 32, 16, 4, 4, 0))"
   ]
  },
  {
   "cell_type": "code",
   "execution_count": 39,
   "metadata": {},
   "outputs": [
    {
     "name": "stdout",
     "output_type": "stream",
     "text": [
      "formula: (16, 31, 31) | out: torch.Size([16, 32, 32])\n",
      "formula: (32, 63, 63) | out: torch.Size([32, 64, 64])\n",
      "formula: (128, 127, 127) | out: torch.Size([128, 128, 128])\n",
      "formula: (3, 128.0, 128.0) | out: torch.Size([3, 128, 128])\n"
     ]
    }
   ],
   "source": [
    "print(transpose_conv_formula(16, 16, 16, 3, 2, 1, 1))\n",
    "print(transpose_conv_formula(32, 16, 32, 5, 2, 2, 1))\n",
    "print(transpose_conv_formula(64, 32, 128, 7, 2, 3, 1))\n",
    "print(conv_formula(128, 128, 3, 3, 1, 1))"
   ]
  },
  {
   "cell_type": "code",
   "execution_count": null,
   "metadata": {},
   "outputs": [],
   "source": []
  }
 ],
 "metadata": {
  "kernelspec": {
   "display_name": "base",
   "language": "python",
   "name": "python3"
  },
  "language_info": {
   "codemirror_mode": {
    "name": "ipython",
    "version": 3
   },
   "file_extension": ".py",
   "mimetype": "text/x-python",
   "name": "python",
   "nbconvert_exporter": "python",
   "pygments_lexer": "ipython3",
   "version": "3.11.4"
  }
 },
 "nbformat": 4,
 "nbformat_minor": 2
}
