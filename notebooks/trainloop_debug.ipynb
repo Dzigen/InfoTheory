{
 "cells": [
  {
   "cell_type": "code",
   "execution_count": 2,
   "metadata": {},
   "outputs": [],
   "source": [
    "import torch.nn as nn\n",
    "import torch\n",
    "import cv2\n",
    "import numpy as np\n",
    "from PIL import Image"
   ]
  },
  {
   "cell_type": "code",
   "execution_count": 2,
   "metadata": {},
   "outputs": [],
   "source": [
    "a = nn.Sequential(nn.Linear(1,2) if 2==2)"
   ]
  },
  {
   "cell_type": "code",
   "execution_count": 4,
   "metadata": {},
   "outputs": [],
   "source": [
    "enc_conv2d_params = {\n",
    "    'in_c': [3,16,32,64],\n",
    "    'out_c': [16,32,64,8],\n",
    "    'ks': [2,2,2,4],\n",
    "    's': [2,2,2,2],\n",
    "    'p': [0,0,0,0]\n",
    "}"
   ]
  },
  {
   "cell_type": "code",
   "execution_count": 13,
   "metadata": {},
   "outputs": [
    {
     "name": "stdout",
     "output_type": "stream",
     "text": [
      "3 16 2 2 0\n",
      "16 32 2 2 0\n",
      "32 64 2 2 0\n",
      "64 8 4 2 0\n"
     ]
    }
   ],
   "source": [
    "for in_c, out_c, ks, srtd, pad in zip(*list(enc_conv2d_params.values())):\n",
    "    print(in_c,out_c,ks,srtd,pad)"
   ]
  },
  {
   "cell_type": "code",
   "execution_count": 22,
   "metadata": {},
   "outputs": [],
   "source": [
    "def conv_formula(size, in_channel, out_channels, \n",
    "                 kernel_size, stride, padding):\n",
    "    \n",
    "    conv = nn.Conv2d(in_channel, out_channels, kernel_size, stride, padding)\n",
    "    x = torch.randn(size=(in_channel, size, size))\n",
    "    out = conv(x)\n",
    "    out_dim = out.shape\n",
    "\n",
    "    new_size = ((size + (2*padding) - kernel_size) / stride) + 1\n",
    "    formula_dim = (out_channels, new_size, new_size)\n",
    "\n",
    "    return f\"formula: {formula_dim} | out: {out_dim}\"\n",
    "\n",
    "def transpose_conv_formula(size, in_channel, out_channels, \n",
    "                           kernel_size, stride, padding, out_padding):\n",
    "    trans_conv = nn.ConvTranspose2d(in_channel, out_channels, kernel_size, stride, \n",
    "                                    output_padding=out_padding, padding=padding)\n",
    "    x = torch.randn(size=(in_channel, size, size))\n",
    "    out = trans_conv(x)\n",
    "    out_dim = out.shape\n",
    "\n",
    "    new_size = ((size - 1)*stride) - (2*padding) + (kernel_size-1) + 1\n",
    "    formula_dim = (out_channels, new_size, new_size)\n",
    "\n",
    "    return f\"formula: {formula_dim} | out: {out_dim}\" "
   ]
  },
  {
   "cell_type": "code",
   "execution_count": 23,
   "metadata": {},
   "outputs": [
    {
     "name": "stdout",
     "output_type": "stream",
     "text": [
      "formula: (128, 64.5, 64.5) | out: torch.Size([128, 64, 64])\n",
      "formula: (32, 32.5, 32.5) | out: torch.Size([32, 32, 32])\n",
      "formula: (16, 16.5, 16.5) | out: torch.Size([16, 16, 16])\n"
     ]
    }
   ],
   "source": [
    "print(conv_formula(128, 3, 128, 7, 2, 3))\n",
    "print(conv_formula(64, 128, 32, 5, 2, 2))\n",
    "print(conv_formula(32, 32, 16, 3, 2, 1))"
   ]
  },
  {
   "cell_type": "code",
   "execution_count": 28,
   "metadata": {},
   "outputs": [
    {
     "name": "stdout",
     "output_type": "stream",
     "text": [
      "formula: (32, 31, 31) | out: torch.Size([32, 32, 32])\n",
      "formula: (128, 63, 63) | out: torch.Size([128, 64, 64])\n",
      "formula: (3, 127, 127) | out: torch.Size([3, 128, 128])\n"
     ]
    }
   ],
   "source": [
    "print(transpose_conv_formula(16, 16, 32, 3, 2, 1, 1))\n",
    "print(transpose_conv_formula(32, 32, 128, 5, 2, 2, 1))\n",
    "print(transpose_conv_formula(64, 128, 3, 7, 2, 3, 1))"
   ]
  },
  {
   "cell_type": "code",
   "execution_count": 6,
   "metadata": {},
   "outputs": [],
   "source": [
    "import torch\n",
    "import torchvision.transforms as T\n",
    "from PIL import Image\n",
    "\n",
    "# define a torch tensor\n",
    "tensor = torch.rand(3,128,128)\n",
    "\n",
    "# define a transform to convert a tensor to PIL image\n",
    "transform = T.ToPILImage()\n",
    "\n",
    "# convert the tensor to PIL image using above transform\n",
    "img = transform(tensor)\n",
    "\n",
    "# display the PIL image\n",
    "img.show()"
   ]
  },
  {
   "cell_type": "code",
   "execution_count": 7,
   "metadata": {},
   "outputs": [
    {
     "data": {
      "text/plain": [
       "torch.Size([3, 128, 128])"
      ]
     },
     "execution_count": 7,
     "metadata": {},
     "output_type": "execute_result"
    }
   ],
   "source": [
    "tensor.shape"
   ]
  },
  {
   "cell_type": "code",
   "execution_count": 43,
   "metadata": {},
   "outputs": [],
   "source": [
    "# Create a random torch tensor\n",
    "tensor = torch.sigmoid(torch.randn(3, 256, 256))"
   ]
  },
  {
   "cell_type": "code",
   "execution_count": 40,
   "metadata": {},
   "outputs": [],
   "source": [
    "transform = T.ToPILImage()"
   ]
  },
  {
   "cell_type": "code",
   "execution_count": 45,
   "metadata": {},
   "outputs": [],
   "source": [
    "v = transform(tensor)"
   ]
  },
  {
   "cell_type": "code",
   "execution_count": 19,
   "metadata": {},
   "outputs": [
    {
     "name": "stderr",
     "output_type": "stream",
     "text": [
      "/home/dzigen/miniconda3/lib/python3.11/site-packages/torchmetrics/utilities/prints.py:43: UserWarning: Metric `SpectralAngleMapper` will save all targets and predictions in the buffer when using`reduction=None` or `reduction='none'. For large datasets, this may lead to a large memory footprint.\n",
      "  warnings.warn(*args, **kwargs)  # noqa: B028\n"
     ]
    }
   ],
   "source": [
    "import torch\n",
    "from torchmetrics.image import SpectralAngleMapper\n",
    "gen = torch.manual_seed(42)\n",
    "preds = torch.rand([3, 3, 16, 16], generator=gen)\n",
    "target = torch.rand([3, 3, 16, 16], generator=gen)\n",
    "sam = SpectralAngleMapper(reduction='none')"
   ]
  },
  {
   "cell_type": "code",
   "execution_count": 23,
   "metadata": {},
   "outputs": [
    {
     "data": {
      "text/plain": [
       "tensor([0.6328, 0.5744, 0.5726])"
      ]
     },
     "execution_count": 23,
     "metadata": {},
     "output_type": "execute_result"
    }
   ],
   "source": [
    "sam(target, preds).mean(axis=[1,2])"
   ]
  },
  {
   "cell_type": "code",
   "execution_count": null,
   "metadata": {},
   "outputs": [],
   "source": []
  }
 ],
 "metadata": {
  "kernelspec": {
   "display_name": "base",
   "language": "python",
   "name": "python3"
  },
  "language_info": {
   "codemirror_mode": {
    "name": "ipython",
    "version": 3
   },
   "file_extension": ".py",
   "mimetype": "text/x-python",
   "name": "python",
   "nbconvert_exporter": "python",
   "pygments_lexer": "ipython3",
   "version": "3.11.4"
  }
 },
 "nbformat": 4,
 "nbformat_minor": 2
}
