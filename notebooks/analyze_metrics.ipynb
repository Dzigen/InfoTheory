{
 "cells": [
  {
   "cell_type": "code",
   "execution_count": 31,
   "metadata": {},
   "outputs": [],
   "source": [
    "import optuna\n",
    "import joblib\n",
    "import matplotlib.pyplot as plt\n",
    "import json\n",
    "import ast"
   ]
  },
  {
   "cell_type": "markdown",
   "metadata": {},
   "source": [
    "#### optuna search"
   ]
  },
  {
   "cell_type": "code",
   "execution_count": 2,
   "metadata": {},
   "outputs": [],
   "source": [
    "OPTUNA_STUDY_PATH = '../experiments/log6/optuna_study.pkl'\n",
    "study = joblib.load(OPTUNA_STUDY_PATH)"
   ]
  },
  {
   "cell_type": "code",
   "execution_count": null,
   "metadata": {},
   "outputs": [],
   "source": [
    "study.best_trials[0].params"
   ]
  },
  {
   "cell_type": "markdown",
   "metadata": {},
   "source": [
    "#### best config train"
   ]
  },
  {
   "cell_type": "code",
   "execution_count": 511,
   "metadata": {},
   "outputs": [],
   "source": [
    "LOG_NAME = '7'\n",
    "\n",
    "TRAIN_LOG_PATH = f'../experiments/log{LOG_NAME}/run_logs.txt'\n",
    "STEP = 20 # 1 | 20\n",
    "\n",
    "info = {\n",
    "    'train_l': [],\n",
    "    'eval_l': [],\n",
    "    'psnr': [],\n",
    "    'ssim': [],\n",
    "    'scc': [],\n",
    "    'sam': [],\n",
    "    'epoch': []\n",
    "}\n",
    "\n",
    "with open(TRAIN_LOG_PATH, 'r', encoding='utf-8') as fd:\n",
    "    data = fd.readlines()\n",
    "    tmp = []\n",
    "    for i, item in enumerate(data):\n",
    "        try:\n",
    "            tmp.append(ast.literal_eval(item.strip()))\n",
    "        except ValueError:\n",
    "            print(i)\n",
    "            break\n",
    "    \n",
    "\n",
    "    for i, epoch_info in enumerate(tmp):\n",
    "        if i % STEP == 0:\n",
    "            info['epoch'].append(epoch_info['epoch'])\n",
    "            info['train_l'].append(epoch_info['train_loss'])\n",
    "            info['eval_l'].append(epoch_info['eval_loss'])\n",
    "            info['psnr'].append(epoch_info['scores']['psnr'])\n",
    "            info['ssim'].append(epoch_info['scores']['ssim'])\n",
    "            info['scc'].append(epoch_info['scores']['scc'])\n",
    "            info['sam'].append(epoch_info['scores']['sam'])"
   ]
  },
  {
   "cell_type": "code",
   "execution_count": 512,
   "metadata": {},
   "outputs": [],
   "source": [
    "l_off = {\n",
    "    '1': [+10, 0.005],\n",
    "    '2': [+12, 0.005],\n",
    "    '3': [+12, 0.002],\n",
    "    '4': [+12, 0.001],\n",
    "    '5': [+12, 0.001],\n",
    "    '6': [+12, 0.001],\n",
    "    '7': [-20, -0.003]\n",
    "}\n",
    "\n",
    "l_lim = {\n",
    "    '1': [-0.005, 0.1],\n",
    "    '2': [-0.005, 0.1],\n",
    "    '3': [0, 0.03],\n",
    "    '4': [0, 0.02],\n",
    "    '5': [0, 0.02],\n",
    "    '6': [0, 0.02],\n",
    "    '7': [0, 0.02]\n",
    "}\n",
    "\n",
    "s_ticks = {\n",
    "    '1': list(range(0,101,10)),\n",
    "    '2': list(range(0,101,10)),\n",
    "    '3': list(range(0,101,10)),\n",
    "    '4': list(range(0,101,10)),\n",
    "    '5': list(range(0,101,10)),\n",
    "    '6': list(range(0,101,10)),\n",
    "    '7': list(range(0,1521,200))\n",
    "}"
   ]
  },
  {
   "cell_type": "code",
   "execution_count": null,
   "metadata": {},
   "outputs": [],
   "source": [
    "# Initialise the subplot function using number of rows and columns \n",
    "\n",
    "plt.figure(figsize=(6,4))\n",
    "\n",
    "plt.plot(info['epoch'], info['eval_l'], label='eval_loss', c='blue')\n",
    "\n",
    "\n",
    "best_epoch = info['eval_l'].index(min(info['eval_l']))\n",
    "plt.scatter(info['epoch'][best_epoch], info['eval_l'][best_epoch], c='red')\n",
    "plt.text(info['epoch'][best_epoch] - l_off[LOG_NAME][0], info['eval_l'][best_epoch] - l_off[LOG_NAME][1], \n",
    "         f\"{round(info['eval_l'][best_epoch], 4)}\", c='red')\n",
    "plt.axvline(x = info['epoch'][best_epoch], color = 'r', linestyle='dashed')\n",
    "\n",
    "plt.plot(info['epoch'], info['train_l'], label='train_loss', c='orange')\n",
    "\n",
    "plt.ylim(l_lim[LOG_NAME][0],l_lim[LOG_NAME][1])\n",
    "plt.xticks(s_ticks[LOG_NAME])\n",
    "\n",
    "plt.xlabel('epoch')\n",
    "plt.ylabel('loss')\n",
    "\n",
    "plt.legend()\n",
    "plt.grid()\n",
    "plt.savefig(\"loss_plot.jpeg\")\n",
    "plt.show()"
   ]
  },
  {
   "cell_type": "code",
   "execution_count": 514,
   "metadata": {},
   "outputs": [],
   "source": [
    "s_off = {\n",
    "    '1': {'psnr': [-13, -0.4], 'ssim': [-10, -0.02], 'scc': [-10, -0.005], 'sam': [-10, 0.005]},\n",
    "    '2': {'psnr': [-10, -0.05], 'ssim': [-10, -0.05], 'scc': [-10,  -0.01], 'sam': [2, 0]},\n",
    "    '3': {'psnr': [-12, -2.3], 'ssim': [-10, -0.05], 'scc': [-8, -0.05], 'sam': [2, 0.015]},\n",
    "    '4': {'psnr': [2, -3], 'ssim': [2, -0.08], 'scc': [-10, -0.1], 'sam': [2, 0.02]},\n",
    "    '5': {'psnr': [2, -3], 'ssim': [2, -0.08], 'scc': [2, -0.1], 'sam': [-10, 0.02]},\n",
    "    '6': {'psnr': [-12, -3.2], 'ssim': [-10, -0.1], 'scc': [-10, -0.1], 'sam': [-10, 0.03]},\n",
    "    '7':{'psnr': [-200, -0.5], 'ssim': [+30, -0.1], 'scc': [+30, -0.1], 'sam': [+30, 0.02]}\n",
    "}"
   ]
  },
  {
   "cell_type": "code",
   "execution_count": null,
   "metadata": {},
   "outputs": [],
   "source": [
    "figure, axis = plt.subplots(2, 2, ) \n",
    "figure.set_figwidth(10)\n",
    "figure.tight_layout(pad=2.8)\n",
    "\n",
    "#\n",
    "psnt_best_s = info['psnr'][best_epoch]\n",
    "axis[0, 0].plot(info['epoch'], info['psnr'], c='blue') \n",
    "axis[0, 0].set_ylabel(\"PSNR-score\")\n",
    "axis[0, 0].set_xlabel(\"epoch\")\n",
    "axis[0, 0].grid()\n",
    "axis[0, 0].set_xticks(s_ticks[LOG_NAME])\n",
    "axis[0, 0].axvline(x = info['epoch'][best_epoch], color = 'r', linestyle='dashed')\n",
    "axis[0, 0].scatter(info['epoch'][best_epoch], psnt_best_s, c='red')\n",
    "axis[0, 0].text(info['epoch'][best_epoch] + s_off[LOG_NAME]['psnr'][0], \n",
    "                psnt_best_s + s_off[LOG_NAME]['psnr'][1], f\"{round(psnt_best_s,2)}\", c='red')\n",
    "\n",
    "#\n",
    "ssim_best_s = info['ssim'][best_epoch]\n",
    "axis[0, 1].plot(info['epoch'], info['ssim'], c='blue') \n",
    "axis[0, 1].set_ylabel(\"SSIM-score\") \n",
    "axis[0, 1].set_xlabel(\"epoch\")\n",
    "axis[0, 1].grid()\n",
    "axis[0, 1].set_xticks(s_ticks[LOG_NAME])\n",
    "axis[0, 1].axvline(x = info['epoch'][best_epoch], color = 'r', linestyle='dashed')\n",
    "axis[0, 1].scatter(info['epoch'][best_epoch], ssim_best_s, c='red')\n",
    "axis[0, 1].text(info['epoch'][best_epoch] + s_off[LOG_NAME]['ssim'][0], \n",
    "                ssim_best_s + s_off[LOG_NAME]['ssim'][1], f\"{round(ssim_best_s,2)}\", c='red')\n",
    "\n",
    "\n",
    "#\n",
    "scc_best_s = info['scc'][best_epoch]\n",
    "axis[1, 0].plot(info['epoch'], info['scc'], c='blue') \n",
    "axis[1, 0].set_ylabel(\"SCC-score\")\n",
    "axis[1, 0].set_xlabel(\"epoch\")\n",
    "axis[1, 0].grid()\n",
    "axis[1, 0].set_xticks(s_ticks[LOG_NAME])\n",
    "axis[1, 0].axvline(x = info['epoch'][best_epoch], color = 'r', linestyle='dashed')\n",
    "axis[1, 0].scatter(info['epoch'][best_epoch], scc_best_s, c='red')\n",
    "axis[1, 0].text(info['epoch'][best_epoch] + s_off[LOG_NAME]['scc'][0], \n",
    "                scc_best_s + s_off[LOG_NAME]['scc'][1], f\"{round(scc_best_s,2)}\", c='red')\n",
    "\n",
    "#\n",
    "sam_best_s = info['sam'][best_epoch]\n",
    "axis[1, 1].plot(info['epoch'], info['sam'], c='blue') \n",
    "axis[1, 1].set_ylabel(\"SAM-score\")\n",
    "axis[1, 1].set_xlabel(\"epoch\")\n",
    "axis[1, 1].grid()\n",
    "axis[1, 1].set_xticks(s_ticks[LOG_NAME])\n",
    "axis[1, 1].axvline(x = info['epoch'][best_epoch], color = 'r', linestyle='dashed')\n",
    "axis[1, 1].scatter(info['epoch'][best_epoch], sam_best_s, c='red')\n",
    "axis[1, 1].text(info['epoch'][best_epoch] + s_off[LOG_NAME]['sam'][0], \n",
    "                sam_best_s + s_off[LOG_NAME]['sam'][1], f\"{round(sam_best_s,2)}\", c='red')\n",
    "\n",
    "plt.savefig(\"scores_plot.jpeg\")\n",
    "plt.show()"
   ]
  },
  {
   "cell_type": "code",
   "execution_count": null,
   "metadata": {},
   "outputs": [],
   "source": []
  }
 ],
 "metadata": {
  "kernelspec": {
   "display_name": "base",
   "language": "python",
   "name": "python3"
  },
  "language_info": {
   "codemirror_mode": {
    "name": "ipython",
    "version": 3
   },
   "file_extension": ".py",
   "mimetype": "text/x-python",
   "name": "python",
   "nbconvert_exporter": "python",
   "pygments_lexer": "ipython3",
   "version": "3.11.4"
  }
 },
 "nbformat": 4,
 "nbformat_minor": 2
}
